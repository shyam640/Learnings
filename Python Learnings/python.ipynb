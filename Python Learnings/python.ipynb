{
 "cells": [
  {
   "cell_type": "markdown",
   "metadata": {},
   "source": [
    "## What is Python?\n",
    "\n",
    "Python is a simple and easy to understand language which feel like\n",
    "reading simple english. Python runs as an pseudo code.\n",
    "- Easy to Understand\n",
    "- High Level Language\n",
    "- Free and Open Source\n",
    "- Portable"
   ]
  },
  {
   "cell_type": "markdown",
   "metadata": {},
   "source": [
    "## What is Module?\n",
    "\n",
    "Module is a file containing code written by somebody else which can be imported and used later."
   ]
  },
  {
   "cell_type": "markdown",
   "metadata": {},
   "source": [
    "# What is pip?\n",
    "pip is a package manager"
   ]
  },
  {
   "cell_type": "code",
   "execution_count": null,
   "metadata": {},
   "outputs": [],
   "source": [
    "# Comments in python\n",
    "\n",
    "print('Hello Python!')\n",
    "\n",
    "# It's a Single line comment\n",
    "print('After comment code!')\n",
    "\n",
    "# Python doesn't support multi-line comment so you have to use multiple '#'."
   ]
  },
  {
   "cell_type": "code",
   "execution_count": null,
   "metadata": {},
   "outputs": [],
   "source": [
    "# Playsound module : This module helps us to play sound\n",
    "\n",
    "from playsound import playsound\n",
    "playsound('E:\\\\Recordings\\\\Tokyo_Drift.mp3')"
   ]
  },
  {
   "cell_type": "code",
   "execution_count": null,
   "metadata": {},
   "outputs": [],
   "source": [
    "# os is an built in module and provide numerous functions\n",
    "\n",
    "import os\n",
    "print(os.listdir())"
   ]
  },
  {
   "cell_type": "markdown",
   "metadata": {},
   "source": [
    "## Variables in Python\n",
    "```\n",
    "      a = 'its_shyam640'\n",
    "      a = \"its_shyam640\"\n",
    "      a = 345\n",
    "      a = 55.23\n",
    "      a = True\n",
    "      a = None\n",
    "```\n",
    "\n",
    "### Different Ways to write strings\n",
    "```\n",
    "      a = 'its_shyam640'\n",
    "      a = 'its_shyam640'\n",
    "      a = ''' its_shyam640\n",
    "                  new\n",
    "            play'''\n",
    "```\n",
    "\n",
    "\n",
    "## Data types in Python\n",
    "- Integers\n",
    "- Float\n",
    "- Strings\n",
    "- Boolean\n",
    "- None\n",
    "\n",
    "## Airthmetic Operators ( '+' , '-' , '*' , '/' , '//' , '%' )\n",
    "## Bitwise Operators ( '&' , '|' , '<<' , '>>' , '~' )\n",
    "## Aisgnment Operators ( '=' , '+=' , '-=' , '*=' , '/=' )\n",
    "## Comparision Operator ( '==' , '>' , '<' , '>=' , '<=' , '!=' )\n",
    "## Logical Operators ( 'and' , 'or' )"
   ]
  },
  {
   "cell_type": "code",
   "execution_count": null,
   "metadata": {},
   "outputs": [],
   "source": [
    "a = 'its_shyam640'\n",
    "b = \"its_shyam640\"\n",
    "c = 345\n",
    "d = 55.23\n",
    "e = True\n",
    "f = None\n",
    "print(type(a),type(b),type(c),type(d),type(e),end=\"\")"
   ]
  },
  {
   "cell_type": "code",
   "execution_count": null,
   "metadata": {},
   "outputs": [],
   "source": [
    "# Airthmetic Operators\n",
    "\n",
    "# Add Numbers\n",
    "print(3 + 7)\n",
    "# Subtract Numbers\n",
    "print(4 - 1)\n",
    "# Multiply Numbers\n",
    "print(2 * 7)\n",
    "# Divide Numbers (Gives Float Output)\n",
    "print(9 / 4)\n",
    "# Divide Numbers (Gives Int Output)\n",
    "print(9 // 4)\n",
    "# Power\n",
    "print(2**5)\n",
    "# unary operators ( '+' , '-' )\n",
    "print(1--3)"
   ]
  },
  {
   "cell_type": "code",
   "execution_count": null,
   "metadata": {},
   "outputs": [],
   "source": [
    "# Bitwise Operators\n",
    "print(1 & 3)\n",
    "print(2 | 7)\n",
    "print(1 << 3)\n",
    "print(1 >> 7)\n",
    "print(~ 3)"
   ]
  },
  {
   "cell_type": "markdown",
   "metadata": {},
   "source": [
    "# Type Casting and Type Conversion\n",
    "```\n",
    "      a = \"3454\"\n",
    "      print(type(a))\n",
    "      a = int(a)    #type Casting\n",
    "      print(type(a))\n",
    "```\n"
   ]
  },
  {
   "cell_type": "code",
   "execution_count": null,
   "metadata": {},
   "outputs": [],
   "source": [
    "a = \"3454\"\n",
    "print(type(a))\n",
    "a = int(a)    #type Casting\n",
    "print(type(a))"
   ]
  },
  {
   "cell_type": "markdown",
   "metadata": {},
   "source": [
    "# Input in Python\n",
    "```\n",
    "      a = input('Enter Vaule')\n",
    "      a = int(a)  # type casting - converting into a integer\n",
    "      print(type(a))\n",
    "\n",
    "      or\n",
    "\n",
    "      a = eval(input('Enter Value'))   # Automatically cheking input value type\n",
    "      print(type(a))\n",
    "```\n",
    "\n",
    "**Note :-** 'input' keyword takes input as string always unless specified."
   ]
  },
  {
   "cell_type": "markdown",
   "metadata": {},
   "source": [
    "# Strings in python\n",
    "- Single Coated String **( ' ' )**\n",
    "- Double Coated String **( \" \" )**\n",
    "- Triple Coated String **( ''' ''')**"
   ]
  },
  {
   "cell_type": "code",
   "execution_count": null,
   "metadata": {},
   "outputs": [],
   "source": [
    "# Concatinating string\n",
    "print('**** Concatinating Strings ****')\n",
    "greeting = \"Hello! \"\n",
    "name = \"its_shyam640\"\n",
    "print(greeting + name)\n",
    "print('\\n')\n",
    "\n",
    "\n",
    "# Accessing a character of string ( indexing starts from 0 )\n",
    "print('**** Accessing string characters ****')\n",
    "print(name[6])\n",
    "# name[6] = 'p'   # This is not allowed\n",
    "print('\\n')\n",
    "\n",
    "\n",
    "# Slicing of Strings\n",
    "print('**** Slicing in Strings ****')\n",
    "s = \"Random String\"     # indexes : 0 1 2 3 4 5 6 7 8 9 10 11 12    or indexes : -13 -12 -11 -10 -9 -8 -7 -6 -5 -4 -3 -2 -1\n",
    "print(s[:4])      # it's same as s[0:4]\n",
    "print(s[1:])      # it's same as s[1:5]\n",
    "print(s[-1])      # accessing last string\n",
    "print(s[1:6:2])      # escaping 2nd character\n",
    "print(s[1::3])      # escaping every 2 characters in string after 1\n",
    "print('\\n')\n",
    "\n",
    "\n",
    "# Common Functions of string\n",
    "print('**** Common Functions in Strings ****')\n",
    "st = \"       New Random String     \"\n",
    "st.strip()     # remove extra space from string\n",
    "print(st)\n",
    "print(len(st))    # return length of string\n",
    "print(st.endswith('om'))   # returns word ending with 'om'\n",
    "print(st.count('o'))       # returns total no. of 'o'\n",
    "print(st.capitalize())     # returns capitalized string\n",
    "print(st.find(\"new\"))      # returns true if 'new' present\n",
    "print(st.replace('New' , \"Updated New\"))     # return replaced string"
   ]
  },
  {
   "cell_type": "code",
   "execution_count": null,
   "metadata": {},
   "outputs": [],
   "source": [
    "# Creating a simple template in python\n",
    "template = '''Congratulations! , <|Name|>\n",
    "\\tYou have been selected.\n",
    "\\tVisit us at <|Address|>\n",
    "\\tDate : <|Date|>\n",
    "Regards,\n",
    "<|Senders_Name|>\n",
    "'''\n",
    "\n",
    "name = input(\"Enter Name of Sender\")\n",
    "template = template.replace(\"<|Name|>\",name)\n",
    "template = template.replace(\"<|Address|>\",\"Home\")\n",
    "template = template.replace(\"<|Date|>\",\"23-01-2019\")\n",
    "template = template.replace(\"<|Senders_Name|>\",\"its_shyam640\")\n",
    "print(template)"
   ]
  },
  {
   "cell_type": "markdown",
   "metadata": {},
   "source": [
    "# Lists and Tuples\n",
    "## List : \n",
    "```\n",
    "      a = [1,2,3,4,5]\n",
    "      print(a)       # output : [1,2,3,4,5]\n",
    "      print(a[3])    # output : 4\n",
    "\n",
    "      a = [ 1 , True , \"string\" , 23.93 ]\n",
    "      print(a)       # output : [ 1 , True , \"string\" , 23.93 ]\n",
    "      print(a[1:3])  # output : [ True , \"string\" , 23.93 ]\n",
    "```\n",
    "\n",
    "### Methods in list\n",
    "- sort()\n",
    "- append()\n",
    "- insert() \n",
    "**.... many more**\n",
    "\n",
    "\n",
    "\n",
    "## Tuple : An imutable data type in python\n",
    "```\n",
    "      tpl = (1,2,3,4)\n",
    "      tpl = ()      # empty tuple\n",
    "      tpl = (1)     # wrong way\n",
    "      tpl = (1,)    # correct way\n",
    "      # tpl[1] = 2    # Cannot update tuple\n",
    "      print(tpl)\n",
    "```\n",
    "\n",
    "### Methods in tuple\n",
    "- count()\n",
    "- index()\n"
   ]
  },
  {
   "cell_type": "code",
   "execution_count": null,
   "metadata": {},
   "outputs": [],
   "source": [
    "# Declaring list\n",
    "a = [1,2,3,4,5]\n",
    "print(a)       # output : [1,2,3,4,5]\n",
    "print(a[3])    # output : 4\n",
    "\n",
    "# Slicing in List\n",
    "a = [ 1 , True , \"string\" , 23.93 ]\n",
    "print(a)       # output : [ 1 , True , \"string\" , 23.93 ]\n",
    "print(a[1:3])  # output : [ True , \"string\" , 23.93 ]"
   ]
  },
  {
   "cell_type": "code",
   "execution_count": null,
   "metadata": {},
   "outputs": [],
   "source": [
    "# Methods in List\n",
    "list1 = [1,9,4,1,6,5,2]\n",
    "\n",
    "print(\"List Before Sorting : \",list1)\n",
    "\n",
    "list1.sort()\n",
    "print(\"List after Sorting : \",list1)\n",
    "\n",
    "list2 = [3,7,\"string\",True]\n",
    "list1.append(list2)\n",
    "print(\"List After appending : \",list1)\n",
    "\n",
    "list1.insert(1,237.2398)\n",
    "print(\"List after inserting\",list1)"
   ]
  },
  {
   "cell_type": "code",
   "execution_count": null,
   "metadata": {},
   "outputs": [],
   "source": [
    "# Declaring Tuple\n",
    "tpl = (1,2,3,4)\n",
    "tpl = ()      # empty tuple\n",
    "tpl = (1)     # wrong way\n",
    "tpl = (1,)    # correct way\n",
    "# tpl[1] = 2    # Cannot update tuple\n",
    "print(tpl)"
   ]
  },
  {
   "cell_type": "code",
   "execution_count": null,
   "metadata": {},
   "outputs": [],
   "source": [
    "# Methods in Tuple\n",
    "tpl = (1,2,3,1,1,3,2,3,1,2)\n",
    "tpl.count(2)"
   ]
  },
  {
   "cell_type": "markdown",
   "metadata": {},
   "source": [
    "# Dictionary and Sets\n",
    "\n",
    "## Dictionary : A collection of key value pair\n",
    "```\n",
    "      dictnry = {\n",
    "         \"key1\" : \"value1\",\n",
    "         \"key2\" : \"value2\",\n",
    "         \"key3\" : \" { \"subkey1\" : \"subvalue1\" }\n",
    "      }\n",
    "      print(dictnry['key1'])\n",
    "      print(dictnry['key3']['subkey1'])\n",
    "```\n",
    "\n",
    "### Methods in Dictionary\n",
    "- keys()\n",
    "- values()\n",
    "- items()\n",
    "- update()\n",
    "- get()\n",
    "\n",
    "## Sets : A collection of non repeated values\n",
    "```\n",
    "      a = { 1,1,2,2,3,4,2,4}\n",
    "      print(type(a))\n",
    "      print(a)\n",
    "```\n",
    "\n",
    "### Methods in Sets\n",
    "- add()\n",
    "- remove()\n",
    "- clear()\n",
    "- union()\n",
    "- intersection()\n",
    "- pop()"
   ]
  },
  {
   "cell_type": "code",
   "execution_count": null,
   "metadata": {},
   "outputs": [],
   "source": [
    "# Declaring Dictionary\n",
    "dictnry = {\n",
    "   \"key1\" : \"value1\",\n",
    "   \"key2\" : \"value2\",\n",
    "   \"key3\" :  { 'subkey1' : 'subvalue1' }\n",
    "}\n",
    "print(dictnry['key1'])\n",
    "print(dictnry['key3']['subkey1'])\n",
    "dictnry['key2'] = { 'updated_value1' , 'updated_value2' }\n",
    "print(dictnry)"
   ]
  },
  {
   "cell_type": "code",
   "execution_count": null,
   "metadata": {},
   "outputs": [],
   "source": [
    "# Methods in Dictionary\n",
    "dictnry = {\n",
    "   \"key1\" : \"value1\",\n",
    "   \"key2\" : \"value2\",\n",
    "   \"key3\" :  { 'subkey1' : 'subvalue1' }\n",
    "}\n",
    "print(list(dictnry.keys()))         # print all keys\n",
    "print(list(dictnry.values()))       # print all values\n",
    "print(list(dictnry.items()))        # print all key value pair\n",
    "\n",
    "updateDictnry = {\n",
    "   \"key1\" : \"updateValue\",\n",
    "}\n",
    "dictnry.update(updateDictnry)\n",
    "print(dictnry)                      # update key\n",
    "print(dictnry.get('key4'))       # returns none if not present\n",
    "# print(list(dictnry['key4']))       # gives error if not present"
   ]
  },
  {
   "cell_type": "code",
   "execution_count": null,
   "metadata": {},
   "outputs": [],
   "source": [
    "# Declaring Sets\n",
    "a = { 1,1,2,2,3,4,2,4}\n",
    "print(type(a))\n",
    "print(a)             # doesn't prints duplicate values\n",
    "\n",
    "a = {}                  # empty set is a dictionary not set\n",
    "print(type(a))\n",
    "print(a)"
   ]
  },
  {
   "cell_type": "code",
   "execution_count": null,
   "metadata": {},
   "outputs": [],
   "source": [
    "# Methods in set\n",
    "st = { 1, 2, 3, 4}\n",
    "\n",
    "st.add(3)\n",
    "# st.add([1,3,5,8])       # Gives error list are not hashable\n",
    "st.add((1,4,2,7))       # Runs correctly as tuple are hashable\n",
    "print(\"Set after adding values : \",st)\n",
    "\n",
    "print(\"Length of Set : \",len(st))\n",
    "\n",
    "st.remove(2)      # removing 2 from set\n",
    "print(st)\n",
    "\n",
    "st.pop()           # remove random value from set\n",
    "print(st)"
   ]
  },
  {
   "cell_type": "markdown",
   "metadata": {},
   "source": [
    "# Conditional Operators\n",
    "- if\n",
    "- else\n",
    "- elif\n",
    "\n",
    "# 'is' and 'in' keyword in Python\n",
    "```\n",
    "      a = {}\n",
    "      print(a is None)\n",
    "      a = [1,2,3,4,5]\n",
    "      print(3 in a)\n",
    "```"
   ]
  },
  {
   "cell_type": "code",
   "execution_count": null,
   "metadata": {},
   "outputs": [],
   "source": [
    "a = 30\n",
    "if(a>7) :\n",
    "   print(a>7,\"- 1st condition printed this!\")\n",
    "elif(a==30) :\n",
    "   print(a==30,\"- 2nd condition printed this!\")\n",
    "else :\n",
    "   print(\"No comments\")"
   ]
  },
  {
   "cell_type": "code",
   "execution_count": null,
   "metadata": {},
   "outputs": [],
   "source": [
    "# 'is' and 'in' keyword in python\n",
    "a = {}\n",
    "print(a is None)\n",
    "a = [1,2,3,4,5]\n",
    "print(3 in a)"
   ]
  },
  {
   "cell_type": "markdown",
   "metadata": {},
   "source": [
    "# Loops in Python\n",
    "### - while loop\n",
    "### - For loop"
   ]
  },
  {
   "cell_type": "code",
   "execution_count": null,
   "metadata": {},
   "outputs": [],
   "source": [
    "# While Loop\n",
    "a = 1\n",
    "while(a<9) :\n",
    "   print(a,end=\" \")\n",
    "   a += 1\n",
    "\n",
    "# For Loop\n",
    "list1 = [ 'a' , 'b' , 'c' , 'd' , 'e' ]\n",
    "for ch in list1 :\n",
    "   print(ch,end=\" \")\n",
    "\n",
    "# using range and escaping in for loop\n",
    "for i in range(1,9,2) :\n",
    "   print(i)\n",
    "\n",
    "# Display Capital Letters\n",
    "for ch in range(ord('A'),ord('Z')+1) :\n",
    "   print(chr(ch),end=\" \")\n",
    "\n",
    "# using else statement with for loop\n",
    "for i in range(10):\n",
    "   print(i)\n",
    "else :\n",
    "   print('This is printed when loop i value turns false')\n",
    "\n",
    "for i in range(10) :\n",
    "   print(i)\n",
    "   if(i==6) :\n",
    "      break\n",
    "else:\n",
    "   print('This is not printed as termination is due to break keyword')"
   ]
  },
  {
   "cell_type": "code",
   "execution_count": null,
   "metadata": {},
   "outputs": [],
   "source": [
    "# Write a program to find factorial of a number\n",
    "num=eval(input('Enter a number'))\n",
    "fact = 1\n",
    "ans = 1\n",
    "while(fact<=num) :\n",
    "   ans*=fact\n",
    "   fact+=1\n",
    "print('factorial of ' , num , ' is ', ans)"
   ]
  },
  {
   "cell_type": "markdown",
   "metadata": {},
   "source": [
    "# pass , match and self keyword in python\n",
    "## Pass : It is a null statement\n",
    "```\n",
    "      if i>0 :\n",
    "         pass\n",
    "      print('test')\n",
    "```\n",
    "\n",
    "## match :\n",
    "```\n",
    "      # point is an (x, y) tuple\n",
    "      match point:\n",
    "      case (0, 0):\n",
    "            print(\"Origin\")\n",
    "      case (0, y):\n",
    "            print(f\"Y={y}\")\n",
    "      case (x, 0):\n",
    "            print(f\"X={x}\")\n",
    "      case (x, y):\n",
    "            print(f\"X={x}, Y={y}\")\n",
    "      case _:\n",
    "            raise ValueError(\"Not a point\")\n",
    "```\n",
    "\n",
    "## Self : self refers to instance of class. It is automatically passed with object of class.\n",
    "```\n",
    "      class Employee:\n",
    "            company = \"google\"\n",
    "            def getSalary(self):\n",
    "                  print(f'salary displayed is {self.amount}')\n",
    "\n",
    "      vrbl = Employee()\n",
    "      vrbl.amount = 193392\n",
    "      vrbl.getSalary()\n",
    "      Employee.getSalary()\n",
    "```"
   ]
  },
  {
   "cell_type": "code",
   "execution_count": null,
   "metadata": {},
   "outputs": [],
   "source": [
    "class Employee:\n",
    "      company = \"google\"\n",
    "      def getSalary(self):\n",
    "            print(f'salary displayed is {self.amount}')\n",
    "\n",
    "vrbl = Employee()\n",
    "vrbl.amount = 193392\n",
    "vrbl.getSalary()\n",
    "# Employee.getSalary()"
   ]
  },
  {
   "cell_type": "markdown",
   "metadata": {},
   "source": [
    "# Pattern Problems in Python\n",
    "\n",
    "## *** Available in seperate file ***"
   ]
  },
  {
   "cell_type": "markdown",
   "metadata": {},
   "source": [
    "# Functions in Python\n",
    "Def : A piece of code which reduces repeted work of user\n",
    "\n",
    "## Types of functions\n",
    "- User defined functions\n",
    "- Inbuilt functions ('sum' , 'swap')"
   ]
  },
  {
   "cell_type": "code",
   "execution_count": null,
   "metadata": {},
   "outputs": [],
   "source": [
    "# write a program to find average of marks\n",
    "def average(marks) :\n",
    "   return sum(marks)/len(marks)\n",
    "marks = [ 10 , 20 , 30 , 40 , 50 ]\n",
    "print(average(marks))"
   ]
  },
  {
   "cell_type": "code",
   "execution_count": null,
   "metadata": {},
   "outputs": [],
   "source": [
    "# Methods to write functions\n",
    "\n",
    "def greet(name=\"python\"):\n",
    "   print(\"Hello\",name)\n",
    "greet('its_shyam640')\n",
    "greet()\n",
    "\n",
    "# Write a recursive function for factorial of a number\n",
    "def recursive_factorial(num) :\n",
    "   if(num==0):\n",
    "      return 1\n",
    "   return num * recursive_factorial(num-1)\n",
    "print(recursive_factorial(5))"
   ]
  },
  {
   "cell_type": "markdown",
   "metadata": {},
   "source": [
    "# File I/0 in Python\n",
    "```\n",
    "      fs = open('sample.txt','r')\n",
    "      fs = open('sample.txt')\n",
    "      data = fs.read()\n",
    "      print(data)\n",
    "      fs.close()\n",
    "```\n",
    "\n",
    "## Functions of file input/output\n",
    "- read()\n",
    "- write()\n",
    "- append()\n",
    "- close()\n",
    "\n",
    "## With Statement in file i/o\n",
    "- This makes easier for us not to close file it is automatically closed."
   ]
  },
  {
   "cell_type": "code",
   "execution_count": null,
   "metadata": {},
   "outputs": [],
   "source": [
    "# Reading from a file\n",
    "# s = open('sample.txt','r')\n",
    "fs = open('sample.txt')       # by default it is read mode\n",
    "data = fs.read()\n",
    "print(data)\n",
    "fs.close()\n",
    "\n",
    "# Writing to a file\n",
    "fs = open('sample.txt','w')\n",
    "fs.write('This is another line but written through code !')\n",
    "fs.close()\n",
    "\n",
    "# Appending in a file\n",
    "fs = open('sample.txt','a')\n",
    "fs.write(' This is appended line')\n",
    "\n",
    "# with statement in python\n",
    "with open ('sample.txt') as fs :\n",
    "   fs.read()"
   ]
  },
  {
   "cell_type": "code",
   "execution_count": null,
   "metadata": {},
   "outputs": [],
   "source": [
    "# Write a program to create multiple tables files\n",
    "# (Means different file for different table)\n",
    "\n",
    "num = int(input('Enter Number to which tables to be created'))\n",
    "for i in range(2,num+1):\n",
    "   for j in range(1,11):\n",
    "      with open(f'tables/table_of_{i}','a') as fs:\n",
    "         fs.write(f\"{i} * {j} = {i*j}\")\n",
    "         if(j!=10):\n",
    "            fs.write('\\n')"
   ]
  },
  {
   "cell_type": "markdown",
   "metadata": {},
   "source": [
    "# Object Oriented Programming Concepts in python\n",
    "### Class : It is a blueprint of creating objects\n",
    "**Procedure oriented programming :** A simple way to write code\n",
    "```\n",
    "      class Number :\n",
    "         def sum(self):\n",
    "            return self.a + self.b\n",
    "      num = Number()\n",
    "      num.a = 3\n",
    "      num.b = 4\n",
    "      s = num.sum()\n",
    "      print(s)\n",
    "\n",
    "```\n",
    "\n",
    "### Object : It is instance of class. Memory is allocated only after program execution.\n",
    "### Attributes : ( 'name' , 'age' , 'someVariable' )\n",
    "- Class Attribute : It belongs to class rather than object\n",
    "- Instance Attribute : It belongs to object.\n",
    "\n",
    "**Note :-** Instance attribute take prefrence over class attribute.\n",
    "\n",
    "## Self : self refers to instance of class. It is automatically passed with object of class.\n",
    "```\n",
    "      class Employee:\n",
    "            company = \"google\"\n",
    "            def getSalary(self):\n",
    "                  print(f'salary displayed is {self.amount}')\n",
    "\n",
    "      vrbl = Employee()\n",
    "      vrbl.amount = 193392\n",
    "      vrbl.getSalary()\n",
    "      Employee.getSalary()\n",
    "```\n",
    "\n",
    "## Static Method : Sometimes we need a function that doesn't use self parameter then we call this static method\n",
    "```\n",
    "      class Employee:\n",
    "            company = \"google\"\n",
    "            def getSalary(self):\n",
    "                  print(f'salary displayed is {self.amount}')\n",
    "            @staticmethod\n",
    "            def greetEmployee():\n",
    "                  print(\"Hello Everyone!\")\n",
    "\n",
    "      vrbl = Employee()\n",
    "      vrbl.amount = 193392\n",
    "      vrbl.getSalary()\n",
    "      vrbl.greetEmployee()\n",
    "      # Employee.getSalary()\n",
    "```\n",
    "\n",
    "## Constructor : \n",
    "### __init__() : It is special kind of constructor which is called automatically.\n",
    "\n"
   ]
  },
  {
   "cell_type": "code",
   "execution_count": null,
   "metadata": {},
   "outputs": [],
   "source": [
    "# Defining a class\n",
    "class Number :\n",
    "   def sum(self):\n",
    "      return self.a + self.b\n",
    "num = Number()\n",
    "num.a = 3\n",
    "num.b = 4\n",
    "s = num.sum()\n",
    "print(s)"
   ]
  },
  {
   "cell_type": "code",
   "execution_count": null,
   "metadata": {},
   "outputs": [],
   "source": [
    "# Self , Static methods\n",
    "class Employee:\n",
    "      company = \"google\"\n",
    "      def getSalary(self):\n",
    "            print(f'salary displayed is {self.amount}')\n",
    "\n",
    "vrbl = Employee()\n",
    "vrbl.amount = 193392\n",
    "vrbl.getSalary()\n",
    "# Employee.getSalary()"
   ]
  },
  {
   "cell_type": "code",
   "execution_count": null,
   "metadata": {},
   "outputs": [],
   "source": [
    "class Employee:\n",
    "      company = \"google\"\n",
    "      def __init__(self) -> None:\n",
    "          print('This is called automatically!')\n",
    "      def getSalary(self):                # you can use any name instead of self\n",
    "            print(f'salary displayed is {self.amount}')\n",
    "      @staticmethod\n",
    "      def greetEmployee():\n",
    "            print(\"Hello Everyone!\")\n",
    "\n",
    "vrbl = Employee()\n",
    "vrbl.amount = 193392\n",
    "vrbl.getSalary()\n",
    "vrbl.greetEmployee()"
   ]
  },
  {
   "cell_type": "markdown",
   "metadata": {},
   "source": [
    "# Inheritance & Dive into OOPs Concepts\n",
    "## Inheritance : To access attributes and methods of one class from another class"
   ]
  },
  {
   "cell_type": "code",
   "execution_count": null,
   "metadata": {},
   "outputs": [],
   "source": [
    "class A :                                    # Declaring Class\n",
    "   attribute_of_a = 'a_value'\n",
    "   def methodA(self):\n",
    "      print('Welcome!')\n",
    "\n",
    "class C :\n",
    "   attribute_of_c = 'c_value'\n",
    "\n",
    "class B ( A ) :                           # Single Inheritance\n",
    "   attribute_of_b = 'b_value'\n",
    "   def methodB(self,name):\n",
    "      print(f\"Hello {name}\")\n",
    "\n",
    "class D (B,C):                            # Multiple Inheritance\n",
    "   attribute_of_D = 'd_value' \n",
    "   def methodC(self):\n",
    "      print('This is multi-level inheritance class!')\n",
    "\n",
    "class E (D) :                             # Multi-level Inheritance\n",
    "   def methodE(self):\n",
    "      print('Method E code!')\n",
    "\n",
    "Obj_A = A()\n",
    "print(Obj_A.methodA())\n",
    "\n",
    "Obj_B = B()\n",
    "print(Obj_B.methodB('its_shyam640'))\n",
    "print(Obj_B.attribute_of_a)\n",
    "\n",
    "Obj_D = D()\n",
    "print(Obj_D.attribute_of_a)\n",
    "print(Obj_D.methodA())\n",
    "\n",
    "Obj_E = E()\n",
    "print(Obj_D.attribute_of_c)\n"
   ]
  },
  {
   "cell_type": "markdown",
   "metadata": {},
   "source": [
    "# Super and Class Methods\n",
    "\n",
    "## super() : "
   ]
  },
  {
   "cell_type": "code",
   "execution_count": null,
   "metadata": {},
   "outputs": [],
   "source": []
  },
  {
   "cell_type": "markdown",
   "metadata": {},
   "source": [
    "# Getters and Setters in Python\n"
   ]
  },
  {
   "cell_type": "code",
   "execution_count": null,
   "metadata": {},
   "outputs": [],
   "source": []
  },
  {
   "cell_type": "markdown",
   "metadata": {},
   "source": [
    "# Operator Overloading\n",
    "```\n",
    "      class Number:\n",
    "         def __init__(self,num):\n",
    "            self.num = num\n",
    "         def __add__(self,num2):\n",
    "            return self.num + num2.num\n",
    "      n1 = Number(4)\n",
    "      n2 = Number(3)\n",
    "      sum = n1 + n2\n",
    "      print(sum)\n",
    "```\n",
    "\n",
    "\n",
    "## Other Dunder methods\n",
    "```\n",
    "      class Number:\n",
    "         def __init__(self,num):\n",
    "            self.num = num\n",
    "         def __add__(self,num2):\n",
    "            return self.num + num2.num\n",
    "         def __str__(self):\n",
    "            return (f\"Decimal Number is {self.num}\")\n",
    "         def __len__(self):\n",
    "            return 1\n",
    "      n = Number(3)\n",
    "      print(n)\n",
    "      print(len(n))\n",
    "```"
   ]
  },
  {
   "cell_type": "code",
   "execution_count": null,
   "metadata": {},
   "outputs": [],
   "source": [
    "# Operator Overloading\n",
    "class Number:\n",
    "   def __init__(self,num):\n",
    "       self.num = num\n",
    "   def __add__(self,num2):\n",
    "      return self.num + num2.num\n",
    "n1 = Number(4)\n",
    "n2 = Number(3)\n",
    "sum = n1 + n2\n",
    "print(sum)"
   ]
  },
  {
   "cell_type": "code",
   "execution_count": null,
   "metadata": {},
   "outputs": [],
   "source": [
    "# Other Dunder methods\n",
    "\n",
    "class Number:\n",
    "    def __init__(self,num):\n",
    "        self.num = num\n",
    "    def __add__(self,num2):\n",
    "        return self.num + num2.num\n",
    "n = Number(3)\n",
    "print(n)"
   ]
  },
  {
   "cell_type": "code",
   "execution_count": null,
   "metadata": {},
   "outputs": [],
   "source": [
    "class Number:\n",
    "    def __init__(self,num):\n",
    "        self.num = num\n",
    "    def __add__(self,num2):\n",
    "        return self.num + num2.num\n",
    "    def __str__(self):\n",
    "       return (f\"Decimal Number is {self.num}\")\n",
    "n = Number(3)\n",
    "print(n)"
   ]
  },
  {
   "cell_type": "code",
   "execution_count": null,
   "metadata": {},
   "outputs": [],
   "source": [
    "class Number:\n",
    "    def __init__(self,num):\n",
    "        self.num = num\n",
    "    def __add__(self,num2):\n",
    "        return self.num + num2.num\n",
    "    def __str__(self):\n",
    "       return (f\"Decimal Number is {self.num}\")\n",
    "    def __len__(self):\n",
    "       return 1\n",
    "n = Number(3)\n",
    "print(n)\n",
    "print(len(n))"
   ]
  },
  {
   "cell_type": "code",
   "execution_count": null,
   "metadata": {},
   "outputs": [],
   "source": [
    "# Create a class 2d vector and another class 3d vector from previous class\n",
    "class C2dVector:\n",
    "   def __init__(self,i,j):\n",
    "      self.iCap = i\n",
    "      self.jCap = j\n",
    "   def __str__(self):\n",
    "      return f\"{self.iCap}i + {self.jCap}j\"\n",
    "class C3dVector(C2dVector):\n",
    "   def __init__(self,i,j,k):\n",
    "      super().__init__(i,j)\n",
    "      self.kCap = k\n",
    "   def __str__(self):\n",
    "      return f\"{self.iCap}i + {self.jCap}j + {self.kCap}k\"\n",
    "\n",
    "C2V = C2dVector(3,4)\n",
    "C3V = C3dVector(1,8,3)\n",
    "print(C2V)\n",
    "print(C3V)"
   ]
  }
 ],
 "metadata": {
  "interpreter": {
   "hash": "4ce0e62306dd6a5716965d4519ada776f947e6dfc145b604b11307c10277ef29"
  },
  "kernelspec": {
   "display_name": "Python 3.10.0 64-bit (system)",
   "name": "python3"
  },
  "language_info": {
   "codemirror_mode": {
    "name": "ipython",
    "version": 3
   },
   "file_extension": ".py",
   "mimetype": "text/x-python",
   "name": "python",
   "nbconvert_exporter": "python",
   "pygments_lexer": "ipython3",
   "version": "3.10.0"
  },
  "orig_nbformat": 4
 },
 "nbformat": 4,
 "nbformat_minor": 2
}
