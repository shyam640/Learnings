{
 "cells": [
  {
   "cell_type": "code",
   "execution_count": 8,
   "metadata": {},
   "outputs": [
    {
     "name": "stdout",
     "output_type": "stream",
     "text": [
      "Connection Established\n"
     ]
    }
   ],
   "source": [
    "import mysql.connector\n",
    "mydb = mysql.connector.connect(\n",
    "    host='localhost', user='root', password='Database@640', port='3306', database='k20hs')\n",
    "if mydb:\n",
    "    print('Connection Established')\n",
    "    mycursor = mydb.cursor()\n",
    "\n",
    "    mycursor.execute(\n",
    "        'CREATE TABLE USER_LOGIN (ID INTEGER AUTO_INCREMENT PRIMARY KEY,EMAIL VARCHAR(255),PASSWORD VARCHAR(255))')\n",
    "\n",
    "else:\n",
    "    print('Error Occured!')\n"
   ]
  },
  {
   "cell_type": "code",
   "execution_count": 23,
   "metadata": {},
   "outputs": [
    {
     "name": "stdout",
     "output_type": "stream",
     "text": [
      "login window\n"
     ]
    }
   ],
   "source": [
    "from tkinter import*\n",
    "#import login\n",
    "from tkinter import messagebox\n",
    "import mysql.connector\n",
    "\n",
    "\n",
    "class welcomewindow:\n",
    "   def __init__(self):\n",
    "      self.root = Tk()\n",
    "      self.c = Canvas(self.root, width=600, height=600, bg='blue')\n",
    "      self.c.pack()\n",
    "      self.root.title('WELCOME TO GUI WITH DATABASE')\n",
    "\n",
    "   def add_frame(self):\n",
    "      self.f = Frame(self.root, width=510, height=510, bg='yellow')\n",
    "      self.f.place(x=40, y=40)\n",
    "      self.img = PhotoImage(file='HacPlayer.png')\n",
    "      self.l1 = Label(self.f, image=self.img)\n",
    "      self.l1.place(x=200, y=50)\n",
    "      self.l2 = Label(self.f, text='WELCOME TO PYTHON PROGRAMMING',\n",
    "                     font=('TIMES', 18, 'bold'))\n",
    "      self.l2.place(x=20, y=250)\n",
    "      self.b1 = Button(self.f, text='CONTINUE', font=('TIMES', 18, 'bold'),\n",
    "                        bg='dark green', command=self.login)\n",
    "      self.b1.place(x=200, y=350)\n",
    "      self.root.mainloop()\n",
    "\n",
    "   def login(self):\n",
    "      self.root.destroy()\n",
    "      log = login()\n",
    "      log.add_frame()\n",
    "\n",
    "\n",
    "class login:\n",
    "   def __init__(self):\n",
    "      self.root1 = Tk()\n",
    "      self.c = Canvas(self.root1, width=600, height=600, bg='blue')\n",
    "      self.c.pack()\n",
    "      self.root1.title('WELCOME TO LOGIN WINDOW')\n",
    "\n",
    "\n",
    "   def add_frame(self):\n",
    "      print('login window')\n",
    "      self.f = Frame(self.root1, width=510, height=510, bg='yellow')\n",
    "      self.f.place(x=40, y=40)\n",
    "      self.img = PhotoImage(file='HacPlayer.png')\n",
    "      self.l1 = Label(self.f, image=self.img)\n",
    "      self.l1.place(x=200, y=50)\n",
    "      self.l3 = Label(self.f, text='USER LOGIN', font=('TIMES', 30))\n",
    "      self.l3.place(x=80, y=150)\n",
    "      self.l4 = Label(self.f, text='Enter Email', font=('TIMES', 15))\n",
    "      self.l4.place(x=40, y=220)\n",
    "      self.email = Entry(self.f, font=('courier', 12))\n",
    "      self.email.place(x=150, y=220)\n",
    "      self.l5 = Label(self.f, text='Password', font=('TIMES', 15))\n",
    "      self.l5.place(x=40, y=270)\n",
    "      self.p = Entry(self.f, font=('courier', 12))\n",
    "      self.p.place(x=150, y=270)\n",
    "      self.b1 = Button(self.f, text='LOGIN', font=('TIMES', 18, 'bold'),\n",
    "                     bg='dark green', command=self.login1)\n",
    "      self.b1.place(x=170, y=350)\n",
    "      self.root1.mainloop()\n",
    "\n",
    "   def login1(self):\n",
    "      data = (\n",
    "         self.email.get(),\n",
    "         self.p.get()\n",
    "      )\n",
    "      if self.email.get()=='':\n",
    "         messagebox.showinfo('Alert!','Enter Email')\n",
    "      elif self.p.get()=='':\n",
    "         messagebox.showinfo('Alert','Enter Password')\n",
    "      else:\n",
    "         mydb = mysql.connector.connect(host='localhost', user='root', password='Database@640', port='3306', database='k20hs')\n",
    "         if mydb:\n",
    "            print('Connection Established')\n",
    "            mycursor = mydb.cursor()\n",
    "            sql = ('SELECT * FROM USER_LOGIN WHERE \"Email\"=%s AND \"Password\"=%s')\n",
    "            mycursor.execute(sql,data)\n",
    "            pd = mycursor.fetchone()\n",
    "\n",
    "            if pd:\n",
    "               messagebox.showinfo('Message','Login Successful')\n",
    "            else:\n",
    "               messagebox.showerror('Alert','Login Unsuccessful')\n",
    "         else:\n",
    "            print('Error Occured!')\n",
    "\n",
    "if __name__ == '__main__':\n",
    "   x = welcomewindow()\n",
    "   x.add_frame()\n"
   ]
  }
 ],
 "metadata": {
  "interpreter": {
   "hash": "4ce0e62306dd6a5716965d4519ada776f947e6dfc145b604b11307c10277ef29"
  },
  "kernelspec": {
   "display_name": "Python 3.10.0 64-bit",
   "language": "python",
   "name": "python3"
  },
  "language_info": {
   "codemirror_mode": {
    "name": "ipython",
    "version": 3
   },
   "file_extension": ".py",
   "mimetype": "text/x-python",
   "name": "python",
   "nbconvert_exporter": "python",
   "pygments_lexer": "ipython3",
   "version": "3.10.0"
  },
  "orig_nbformat": 4
 },
 "nbformat": 4,
 "nbformat_minor": 2
}
