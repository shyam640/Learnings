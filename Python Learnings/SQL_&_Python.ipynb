{
 "cells": [
  {
   "cell_type": "code",
   "execution_count": 1,
   "metadata": {},
   "outputs": [
    {
     "name": "stdout",
     "output_type": "stream",
     "text": [
      "Connection Established\n"
     ]
    }
   ],
   "source": [
    "import mysql.connector\n",
    "mydb = mysql.connector.connect(\n",
    "    host='localhost', user='root', password='Database@640', port='3306', database='k20hs')\n",
    "if mydb:\n",
    "    print('Connection Established')\n",
    "else:\n",
    "    print('Error Occured!')\n"
   ]
  },
  {
   "cell_type": "code",
   "execution_count": 8,
   "metadata": {},
   "outputs": [
    {
     "name": "stdout",
     "output_type": "stream",
     "text": [
      "Connection Established\n"
     ]
    }
   ],
   "source": [
    "import mysql.connector\n",
    "mydb = mysql.connector.connect(\n",
    "    host='localhost', user='root', password='Database@640', port='3306', database='k20hs')\n",
    "if mydb:\n",
    "    print('Connection Established')\n",
    "    mycursor = mydb.cursor()\n",
    "\n",
    "    mycursor.execute(\n",
    "        'CREATE TABLE CRICK (POS INTEGER AUTO_INCREMENT PRIMARY KEY,TEAM VARCHAR(255),NAME VARCHAR(255),MATCHES INT(10),RUNS INT(100))')\n",
    "\n",
    "else:\n",
    "    print('Error Occured!')\n"
   ]
  },
  {
   "cell_type": "code",
   "execution_count": 12,
   "metadata": {},
   "outputs": [
    {
     "name": "stdout",
     "output_type": "stream",
     "text": [
      "*********** Connection Established ***************\n",
      "('information_schema',)\n",
      "('k20hs',)\n",
      "('mysql',)\n",
      "('performance_schema',)\n",
      "('sakila',)\n",
      "('sys',)\n",
      "('world',)\n"
     ]
    }
   ],
   "source": [
    "import mysql.connector\n",
    "mydb = mysql.connector.connect(\n",
    "    host='localhost', user='root', password='Database@640', port='3306', database='k20hs')\n",
    "if mydb:\n",
    "    print('*********** Connection Established ***************')\n",
    "    mycursor = mydb.cursor()\n",
    "    mycursor.execute('SHOW DATABASES')\n",
    "    for db in mycursor:\n",
    "        print(db)\n",
    "else:\n",
    "    print('Error Occured!')\n"
   ]
  },
  {
   "cell_type": "code",
   "execution_count": 13,
   "metadata": {},
   "outputs": [
    {
     "name": "stdout",
     "output_type": "stream",
     "text": [
      "*********** Connection Established ***************\n",
      "('crick',)\n"
     ]
    }
   ],
   "source": [
    "import mysql.connector\n",
    "mydb = mysql.connector.connect(\n",
    "    host='localhost', user='root', password='Database@640', port='3306', database='k20hs')\n",
    "if mydb:\n",
    "    print('*********** Connection Established ***************')\n",
    "    mycursor = mydb.cursor()\n",
    "    mycursor.execute('SHOW TABLES')\n",
    "    for table in mycursor:\n",
    "        print(table)\n",
    "else:\n",
    "    print('Error Occured!')\n"
   ]
  },
  {
   "cell_type": "code",
   "execution_count": 22,
   "metadata": {},
   "outputs": [
    {
     "name": "stdout",
     "output_type": "stream",
     "text": [
      "*********** Connection Established ***************\n",
      "5 Rows was inserted into the tables!\n"
     ]
    }
   ],
   "source": [
    "import mysql.connector\n",
    "mydb = mysql.connector.connect(\n",
    "    host='localhost', user='root', password='Database@640', port='3306', database='k20hs')\n",
    "if mydb:\n",
    "    print('*********** Connection Established ***************')\n",
    "    mycursor = mydb.cursor()\n",
    "    sql = 'INSERT INTO CRICK(TEAM,NAME,MATCHES,RUNS) VALUES(%s,%s,%s,%s)'\n",
    "    val = [\n",
    "        ('RCB', 'VIRAT', 182, 3928),\n",
    "        ('CSK', 'DHONI', 201, 1903),\n",
    "        ('MI', 'ROHIT', 172, 3289),\n",
    "        ('DC', 'RISHABH PANT', 145, 3892),\n",
    "        ('KKR', 'HARDIK PANDYA', 188, 2389),\n",
    "    ]\n",
    "    mycursor.executemany(sql, val)\n",
    "    mydb.commit()\n",
    "    print(mycursor.rowcount, 'Rows was inserted into the tables!')\n",
    "else:\n",
    "    print('Error Occured!')\n"
   ]
  },
  {
   "cell_type": "code",
   "execution_count": 26,
   "metadata": {},
   "outputs": [
    {
     "name": "stdout",
     "output_type": "stream",
     "text": [
      "*********** Connection Established ***************\n",
      "[(1, 'RCB', 'VIRAT', 182, 3928), (2, 'CSK', 'DHONI', 201, 1903), (3, 'MI', 'ROHIT', 45, 3289), (4, 'DC', 'RISHABH PANT', 145, 3892), (5, 'KKR', 'HARDIK PANDYA', 188, 2389), (6, 'RCB', 'VIRAT', 182, 3928), (7, 'CSK', 'DHONI', 201, 1903), (8, 'MI', 'ROHIT', 172, 3289), (9, 'DC', 'RISHABH PANT', 145, 3892), (10, 'KKR', 'HARDIK PANDYA', 188, 2389), (11, 'RCB', 'VIRAT', 182, 3928), (12, 'CSK', 'DHONI', 201, 1903), (13, 'MI', 'ROHIT', 172, 3289), (14, 'DC', 'RISHABH PANT', 145, 3892), (15, 'KKR', 'HARDIK PANDYA', 188, 2389)]\n"
     ]
    }
   ],
   "source": [
    "import mysql.connector\n",
    "mydb = mysql.connector.connect(\n",
    "    host='localhost', user='root', password='Database@640', port='3306', database='k20hs')\n",
    "if mydb:\n",
    "    print('*********** Connection Established ***************')\n",
    "    mycursor = mydb.cursor()\n",
    "    mycursor.execute('SELECT * FROM CRICK')\n",
    "    players_details = mycursor.fetchall()\n",
    "    print(players_details)\n",
    "else:\n",
    "    print('Error Occured!')\n"
   ]
  },
  {
   "cell_type": "code",
   "execution_count": 8,
   "metadata": {},
   "outputs": [],
   "source": [
    "from tkinter import*\n",
    "\n",
    "\n",
    "class welcomeWindow:\n",
    "    def __init__(self):\n",
    "        self.root = Tk()\n",
    "        self.c = Canvas(self.root, width=600, height=400, bg='green')\n",
    "        self.c.pack()\n",
    "        self.f = Frame(self.root, width=300, height=300, bg='yellow')\n",
    "        self.f.pack()\n",
    "        self.root.mainloop()\n",
    "\n",
    "\n",
    "if __name__ == '__name__':\n",
    "    x = welcomeWindow()\n"
   ]
  },
  {
   "cell_type": "code",
   "execution_count": 26,
   "metadata": {},
   "outputs": [
    {
     "ename": "TclError",
     "evalue": "image \"pyimage29\" doesn't exist",
     "output_type": "error",
     "traceback": [
      "\u001b[1;31m---------------------------------------------------------------------------\u001b[0m",
      "\u001b[1;31mTclError\u001b[0m                                  Traceback (most recent call last)",
      "\u001b[1;32m~\\AppData\\Local\\Temp/ipykernel_14948/1456659670.py\u001b[0m in \u001b[0;36m<module>\u001b[1;34m\u001b[0m\n\u001b[0;32m     59\u001b[0m \u001b[1;32mif\u001b[0m \u001b[0m__name__\u001b[0m \u001b[1;33m==\u001b[0m \u001b[1;34m'__main__'\u001b[0m\u001b[1;33m:\u001b[0m\u001b[1;33m\u001b[0m\u001b[1;33m\u001b[0m\u001b[0m\n\u001b[0;32m     60\u001b[0m    \u001b[0mx\u001b[0m \u001b[1;33m=\u001b[0m \u001b[0mwelcomewindow\u001b[0m\u001b[1;33m(\u001b[0m\u001b[1;33m)\u001b[0m\u001b[1;33m\u001b[0m\u001b[1;33m\u001b[0m\u001b[0m\n\u001b[1;32m---> 61\u001b[1;33m    \u001b[0mx\u001b[0m\u001b[1;33m.\u001b[0m\u001b[0madd_frame\u001b[0m\u001b[1;33m(\u001b[0m\u001b[1;33m)\u001b[0m\u001b[1;33m\u001b[0m\u001b[1;33m\u001b[0m\u001b[0m\n\u001b[0m",
      "\u001b[1;32m~\\AppData\\Local\\Temp/ipykernel_14948/1456659670.py\u001b[0m in \u001b[0;36madd_frame\u001b[1;34m(self)\u001b[0m\n\u001b[0;32m     13\u001b[0m       \u001b[0mself\u001b[0m\u001b[1;33m.\u001b[0m\u001b[0mf\u001b[0m\u001b[1;33m.\u001b[0m\u001b[0mplace\u001b[0m\u001b[1;33m(\u001b[0m\u001b[0mx\u001b[0m\u001b[1;33m=\u001b[0m\u001b[1;36m40\u001b[0m\u001b[1;33m,\u001b[0m \u001b[0my\u001b[0m\u001b[1;33m=\u001b[0m\u001b[1;36m40\u001b[0m\u001b[1;33m)\u001b[0m\u001b[1;33m\u001b[0m\u001b[1;33m\u001b[0m\u001b[0m\n\u001b[0;32m     14\u001b[0m       \u001b[0mself\u001b[0m\u001b[1;33m.\u001b[0m\u001b[0mimg\u001b[0m \u001b[1;33m=\u001b[0m \u001b[0mPhotoImage\u001b[0m\u001b[1;33m(\u001b[0m\u001b[0mfile\u001b[0m\u001b[1;33m=\u001b[0m\u001b[1;34m'HacPlayer.png'\u001b[0m\u001b[1;33m)\u001b[0m\u001b[1;33m\u001b[0m\u001b[1;33m\u001b[0m\u001b[0m\n\u001b[1;32m---> 15\u001b[1;33m       \u001b[0mself\u001b[0m\u001b[1;33m.\u001b[0m\u001b[0ml1\u001b[0m \u001b[1;33m=\u001b[0m \u001b[0mLabel\u001b[0m\u001b[1;33m(\u001b[0m\u001b[0mself\u001b[0m\u001b[1;33m.\u001b[0m\u001b[0mf\u001b[0m\u001b[1;33m,\u001b[0m \u001b[0mimage\u001b[0m\u001b[1;33m=\u001b[0m\u001b[0mself\u001b[0m\u001b[1;33m.\u001b[0m\u001b[0mimg\u001b[0m\u001b[1;33m)\u001b[0m\u001b[1;33m\u001b[0m\u001b[1;33m\u001b[0m\u001b[0m\n\u001b[0m\u001b[0;32m     16\u001b[0m       \u001b[0mself\u001b[0m\u001b[1;33m.\u001b[0m\u001b[0ml1\u001b[0m\u001b[1;33m.\u001b[0m\u001b[0mplace\u001b[0m\u001b[1;33m(\u001b[0m\u001b[0mx\u001b[0m\u001b[1;33m=\u001b[0m\u001b[1;36m200\u001b[0m\u001b[1;33m,\u001b[0m \u001b[0my\u001b[0m\u001b[1;33m=\u001b[0m\u001b[1;36m50\u001b[0m\u001b[1;33m)\u001b[0m\u001b[1;33m\u001b[0m\u001b[1;33m\u001b[0m\u001b[0m\n\u001b[0;32m     17\u001b[0m       self.l2 = Label(self.f, text='WELCOME TO PYTHON PROGRAMMING',\n",
      "\u001b[1;32mD:\\Python\\lib\\tkinter\\__init__.py\u001b[0m in \u001b[0;36m__init__\u001b[1;34m(self, master, cnf, **kw)\u001b[0m\n\u001b[0;32m   3175\u001b[0m \u001b[1;33m\u001b[0m\u001b[0m\n\u001b[0;32m   3176\u001b[0m         \"\"\"\n\u001b[1;32m-> 3177\u001b[1;33m         \u001b[0mWidget\u001b[0m\u001b[1;33m.\u001b[0m\u001b[0m__init__\u001b[0m\u001b[1;33m(\u001b[0m\u001b[0mself\u001b[0m\u001b[1;33m,\u001b[0m \u001b[0mmaster\u001b[0m\u001b[1;33m,\u001b[0m \u001b[1;34m'label'\u001b[0m\u001b[1;33m,\u001b[0m \u001b[0mcnf\u001b[0m\u001b[1;33m,\u001b[0m \u001b[0mkw\u001b[0m\u001b[1;33m)\u001b[0m\u001b[1;33m\u001b[0m\u001b[1;33m\u001b[0m\u001b[0m\n\u001b[0m\u001b[0;32m   3178\u001b[0m \u001b[1;33m\u001b[0m\u001b[0m\n\u001b[0;32m   3179\u001b[0m \u001b[1;33m\u001b[0m\u001b[0m\n",
      "\u001b[1;32mD:\\Python\\lib\\tkinter\\__init__.py\u001b[0m in \u001b[0;36m__init__\u001b[1;34m(self, master, widgetName, cnf, kw, extra)\u001b[0m\n\u001b[0;32m   2599\u001b[0m         \u001b[1;32mfor\u001b[0m \u001b[0mk\u001b[0m\u001b[1;33m,\u001b[0m \u001b[0mv\u001b[0m \u001b[1;32min\u001b[0m \u001b[0mclasses\u001b[0m\u001b[1;33m:\u001b[0m\u001b[1;33m\u001b[0m\u001b[1;33m\u001b[0m\u001b[0m\n\u001b[0;32m   2600\u001b[0m             \u001b[1;32mdel\u001b[0m \u001b[0mcnf\u001b[0m\u001b[1;33m[\u001b[0m\u001b[0mk\u001b[0m\u001b[1;33m]\u001b[0m\u001b[1;33m\u001b[0m\u001b[1;33m\u001b[0m\u001b[0m\n\u001b[1;32m-> 2601\u001b[1;33m         self.tk.call(\n\u001b[0m\u001b[0;32m   2602\u001b[0m             (widgetName, self._w) + extra + self._options(cnf))\n\u001b[0;32m   2603\u001b[0m         \u001b[1;32mfor\u001b[0m \u001b[0mk\u001b[0m\u001b[1;33m,\u001b[0m \u001b[0mv\u001b[0m \u001b[1;32min\u001b[0m \u001b[0mclasses\u001b[0m\u001b[1;33m:\u001b[0m\u001b[1;33m\u001b[0m\u001b[1;33m\u001b[0m\u001b[0m\n",
      "\u001b[1;31mTclError\u001b[0m: image \"pyimage29\" doesn't exist"
     ]
    }
   ],
   "source": [
    "from tkinter import*\n",
    "#import login\n",
    "class welcomewindow:\n",
    "   def __init__(self):\n",
    "      self.root = Tk()\n",
    "      self.c = Canvas(self.root, width=600, height=600, bg='blue')\n",
    "      self.c.pack()\n",
    "      self.root.title('WELCOME TO GUI WITH DATABASE')\n",
    "\n",
    "\n",
    "   def add_frame(self):\n",
    "      self.f = Frame(self.root, width=510, height=510, bg='yellow')\n",
    "      self.f.place(x=40, y=40)\n",
    "      self.img = PhotoImage(file='HacPlayer.png')\n",
    "      self.l1 = Label(self.f, image=self.img)\n",
    "      self.l1.place(x=200, y=50)\n",
    "      self.l2 = Label(self.f, text='WELCOME TO PYTHON PROGRAMMING',\n",
    "                     font=('TIMES', 18, 'bold'))\n",
    "      self.l2.place(x=20, y=250)\n",
    "      self.b1 = Button(self.f, text='CONTINUE', font=('TIMES', 18, 'bold'),\n",
    "                     bg='dark green', command=self.login)\n",
    "      self.b1.place(x=200, y=350)\n",
    "      self.root.mainloop()\n",
    "\n",
    "   def login(self):\n",
    "      self.root.destroy()\n",
    "      log = login()\n",
    "      log.add_frame()\n",
    "\n",
    "class login:\n",
    "   def __init__(self):\n",
    "      self.root1 = Tk()\n",
    "      self.c = Canvas(self.root1, width=600, height=600, bg='blue')\n",
    "      self.c.pack()\n",
    "      self.root1.title('WELCOME TO LOGIN WINDOW')\n",
    "\n",
    "\n",
    "   def add_frame(self):\n",
    "      self.f = Frame(self.root1, width=510, height=510, bg='yellow')\n",
    "      self.f.place(x=40, y=40)\n",
    "      self.img = PhotoImage(file='HacPlayer.png')\n",
    "      self.l1 = Label(self.f, image=self.img)\n",
    "      self.l1.place(x=200, y=50)\n",
    "      self.l3 = Label(self.f, text='USER LOGIN', font=('TIMES', 30))\n",
    "      self.l3.place(x=80, y=150)\n",
    "      self.l4 = Label(self.f, text='Enter Email', font=('TIMES', 15))\n",
    "      self.l4.place(x=40, y=220)\n",
    "      self.email = Entry(self.f, font=('courier', 12))\n",
    "      self.email.place(x=150, y=220)\n",
    "      self.l5 = Label(self.f, text='Password', font=('TIMES', 15))\n",
    "      self.l5.place(x=40, y=270)\n",
    "      self.p = Entry(self.f, font=('courier', 12))\n",
    "      self.p.place(x=150, y=270)\n",
    "      self.b1 = Button(self.f, text='LOGIN', font=('TIMES', 18, 'bold'),\n",
    "                     bg='dark green')\n",
    "      self.b1.place(x=170, y=350)\n",
    "      self.root1.mainloop()\n",
    "\n",
    "if __name__ == '__main__':\n",
    "   x = welcomewindow()\n",
    "   x.add_frame()\n"
   ]
  },
  {
   "cell_type": "code",
   "execution_count": null,
   "metadata": {},
   "outputs": [],
   "source": [
    "import mysql.connector\n",
    "mydb = mysql.connector()"
   ]
  }
 ],
 "metadata": {
  "interpreter": {
   "hash": "4ce0e62306dd6a5716965d4519ada776f947e6dfc145b604b11307c10277ef29"
  },
  "kernelspec": {
   "display_name": "Python 3.10.0 64-bit",
   "language": "python",
   "name": "python3"
  },
  "language_info": {
   "codemirror_mode": {
    "name": "ipython",
    "version": 3
   },
   "file_extension": ".py",
   "mimetype": "text/x-python",
   "name": "python",
   "nbconvert_exporter": "python",
   "pygments_lexer": "ipython3",
   "version": "3.10.0"
  },
  "orig_nbformat": 4
 },
 "nbformat": 4,
 "nbformat_minor": 2
}
